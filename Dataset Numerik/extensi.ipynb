{
 "cells": [
  {
   "cell_type": "code",
   "execution_count": 1,
   "metadata": {},
   "outputs": [
    {
     "name": "stdout",
     "output_type": "stream",
     "text": [
      "Requirement already satisfied: pandas in d:\\dataconda\\envs\\pratikumkb\\lib\\site-packages (2.2.3)\n",
      "Requirement already satisfied: numpy in d:\\dataconda\\envs\\pratikumkb\\lib\\site-packages (2.0.2)\n",
      "Requirement already satisfied: scikit-learn in d:\\dataconda\\envs\\pratikumkb\\lib\\site-packages (1.6.0)\n",
      "Requirement already satisfied: matplotlib in d:\\dataconda\\envs\\pratikumkb\\lib\\site-packages (3.9.4)\n",
      "Collecting seaborn\n",
      "  Downloading seaborn-0.13.2-py3-none-any.whl.metadata (5.4 kB)\n",
      "Requirement already satisfied: python-dateutil>=2.8.2 in d:\\dataconda\\envs\\pratikumkb\\lib\\site-packages (from pandas) (2.9.0.post0)\n",
      "Requirement already satisfied: pytz>=2020.1 in d:\\dataconda\\envs\\pratikumkb\\lib\\site-packages (from pandas) (2024.2)\n",
      "Requirement already satisfied: tzdata>=2022.7 in d:\\dataconda\\envs\\pratikumkb\\lib\\site-packages (from pandas) (2024.2)\n",
      "Requirement already satisfied: scipy>=1.6.0 in d:\\dataconda\\envs\\pratikumkb\\lib\\site-packages (from scikit-learn) (1.13.1)\n",
      "Requirement already satisfied: joblib>=1.2.0 in d:\\dataconda\\envs\\pratikumkb\\lib\\site-packages (from scikit-learn) (1.4.2)\n",
      "Requirement already satisfied: threadpoolctl>=3.1.0 in d:\\dataconda\\envs\\pratikumkb\\lib\\site-packages (from scikit-learn) (3.5.0)\n",
      "Requirement already satisfied: contourpy>=1.0.1 in d:\\dataconda\\envs\\pratikumkb\\lib\\site-packages (from matplotlib) (1.3.0)\n",
      "Requirement already satisfied: cycler>=0.10 in d:\\dataconda\\envs\\pratikumkb\\lib\\site-packages (from matplotlib) (0.12.1)\n",
      "Requirement already satisfied: fonttools>=4.22.0 in d:\\dataconda\\envs\\pratikumkb\\lib\\site-packages (from matplotlib) (4.55.3)\n",
      "Requirement already satisfied: kiwisolver>=1.3.1 in d:\\dataconda\\envs\\pratikumkb\\lib\\site-packages (from matplotlib) (1.4.7)\n",
      "Requirement already satisfied: packaging>=20.0 in d:\\dataconda\\envs\\pratikumkb\\lib\\site-packages (from matplotlib) (24.2)\n",
      "Requirement already satisfied: pillow>=8 in d:\\dataconda\\envs\\pratikumkb\\lib\\site-packages (from matplotlib) (11.0.0)\n",
      "Requirement already satisfied: pyparsing>=2.3.1 in d:\\dataconda\\envs\\pratikumkb\\lib\\site-packages (from matplotlib) (3.2.0)\n",
      "Requirement already satisfied: importlib-resources>=3.2.0 in d:\\dataconda\\envs\\pratikumkb\\lib\\site-packages (from matplotlib) (6.4.5)\n",
      "Requirement already satisfied: zipp>=3.1.0 in d:\\dataconda\\envs\\pratikumkb\\lib\\site-packages (from importlib-resources>=3.2.0->matplotlib) (3.21.0)\n",
      "Requirement already satisfied: six>=1.5 in d:\\dataconda\\envs\\pratikumkb\\lib\\site-packages (from python-dateutil>=2.8.2->pandas) (1.17.0)\n",
      "Downloading seaborn-0.13.2-py3-none-any.whl (294 kB)\n",
      "Installing collected packages: seaborn\n",
      "Successfully installed seaborn-0.13.2\n"
     ]
    }
   ],
   "source": [
    "!pip install pandas numpy scikit-learn matplotlib seaborn\n",
    "\n",
    "\n",
    "\n",
    "\n",
    "\n",
    "\n",
    "\n",
    "\n"
   ]
  },
  {
   "cell_type": "code",
   "execution_count": 4,
   "metadata": {},
   "outputs": [
    {
     "name": "stdout",
     "output_type": "stream",
     "text": [
      "   Pregnancies  Glucose  BloodPressure  SkinThickness  Insulin   BMI  \\\n",
      "0            6      148             72             35        0  33.6   \n",
      "1            1       85             66             29        0  26.6   \n",
      "2            8      183             64              0        0  23.3   \n",
      "3            1       89             66             23       94  28.1   \n",
      "4            0      137             40             35      168  43.1   \n",
      "\n",
      "   DiabetesPedigreeFunction  Age  Outcome  \n",
      "0                     0.627   50        1  \n",
      "1                     0.351   31        0  \n",
      "2                     0.672   32        1  \n",
      "3                     0.167   21        0  \n",
      "4                     2.288   33        1  \n",
      "<class 'pandas.core.frame.DataFrame'>\n",
      "RangeIndex: 768 entries, 0 to 767\n",
      "Data columns (total 9 columns):\n",
      " #   Column                    Non-Null Count  Dtype  \n",
      "---  ------                    --------------  -----  \n",
      " 0   Pregnancies               768 non-null    int64  \n",
      " 1   Glucose                   768 non-null    int64  \n",
      " 2   BloodPressure             768 non-null    int64  \n",
      " 3   SkinThickness             768 non-null    int64  \n",
      " 4   Insulin                   768 non-null    int64  \n",
      " 5   BMI                       768 non-null    float64\n",
      " 6   DiabetesPedigreeFunction  768 non-null    float64\n",
      " 7   Age                       768 non-null    int64  \n",
      " 8   Outcome                   768 non-null    int64  \n",
      "dtypes: float64(2), int64(7)\n",
      "memory usage: 54.1 KB\n",
      "None\n",
      "Akurasi: 0.7207792207792207\n",
      "\n",
      "Laporan Klasifikasi:\n",
      "               precision    recall  f1-score   support\n",
      "\n",
      "           0       0.79      0.78      0.78        99\n",
      "           1       0.61      0.62      0.61        55\n",
      "\n",
      "    accuracy                           0.72       154\n",
      "   macro avg       0.70      0.70      0.70       154\n",
      "weighted avg       0.72      0.72      0.72       154\n",
      "\n"
     ]
    },
    {
     "data": {
      "image/png": "[encoded data removed]",
      "text/plain": [
       "<Figure size 800x600 with 2 Axes>"
      ]
     },
     "metadata": {},
     "output_type": "display_data"
    }
   ],
   "source": [
    "import pandas as pd\n",
    "from sklearn.model_selection import train_test_split\n",
    "from sklearn.ensemble import RandomForestClassifier\n",
    "from sklearn.metrics import accuracy_score, classification_report, confusion_matrix\n",
    "import seaborn as sns\n",
    "import matplotlib.pyplot as plt\n",
    "\n",
    "# Memuat dataset\n",
    "file_path = \"diabetes.csv\"  # Ganti dengan path file Anda\n",
    "data = pd.read_csv(file_path)\n",
    "\n",
    "# Memeriksa data\n",
    "print(data.head())\n",
    "print(data.info())\n",
    "\n",
    "# Memisahkan fitur dan label\n",
    "fitur = data.iloc[:, :-1]  # Semua kolom kecuali kolom terakhir sebagai fitur\n",
    "label = data.iloc[:, -1]   # Kolom terakhir sebagai label\n",
    "\n",
    "# Membagi dataset menjadi pelatihan dan pengujian\n",
    "fitur_latih, fitur_uji, label_latih, label_uji = train_test_split(fitur, label, test_size=0.2, random_state=42)\n",
    "\n",
    "# Membuat model Random Forest\n",
    "model_hutan_acak = RandomForestClassifier(n_estimators=100, random_state=42)\n",
    "model_hutan_acak.fit(fitur_latih, label_latih)\n",
    "\n",
    "# Prediksi\n",
    "label_prediksi = model_hutan_acak.predict(fitur_uji)\n",
    "\n",
    "# Evaluasi\n",
    "akurasi = accuracy_score(label_uji, label_prediksi)\n",
    "print(\"Akurasi:\", akurasi)\n",
    "print(\"\\nLaporan Klasifikasi:\\n\", classification_report(label_uji, label_prediksi))\n",
    "\n",
    "# Matriks Kebingungan\n",
    "matriks_kebingungan = confusion_matrix(label_uji, label_prediksi)\n",
    "plt.figure(figsize=(8, 6))\n",
    "sns.heatmap(matriks_kebingungan, annot=True, fmt='d', cmap='Blues', xticklabels=model_hutan_acak.classes_, yticklabels=model_hutan_acak.classes_)\n",
    "plt.xlabel('Prediksi')\n",
    "plt.ylabel('Aktual')\n",
    "plt.title('Matriks Kebingungan')\n",
    "plt.show()\n"
   ]
  }
 ],
 "metadata": {
  "kernelspec": {
   "display_name": "pratikumkb",
   "language": "python",
   "name": "python3"
  },
  "language_info": {
   "codemirror_mode": {
    "name": "ipython",
    "version": 3
   },
   "file_extension": ".py",
   "mimetype": "text/x-python",
   "name": "python",
   "nbconvert_exporter": "python",
   "pygments_lexer": "ipython3",
   "version": "3.9.21"
  }
 },
 "nbformat": 4,
 "nbformat_minor": 2
}
